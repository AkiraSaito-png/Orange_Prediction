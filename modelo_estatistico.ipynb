{
 "cells": [
  {
   "cell_type": "code",
   "execution_count": 96,
   "metadata": {},
   "outputs": [],
   "source": [
    "estudante = ['g','d','gu','l','lo','le','a','an','j','m']\n",
    "tempo = [15,20,20,40,50,25,10,55,35,30]\n",
    "dist = [8,6,15,20,25,11,5,32,28,20]\n",
    "YY = []\n",
    "XX = []\n",
    "XXYY = []\n",
    "XX2 = []\n",
    "Y = []\n",
    "u = []\n",
    "u2 = []"
   ]
  },
  {
   "cell_type": "markdown",
   "metadata": {},
   "source": [
    "## regressão linear por mínimos quadrados ordinários"
   ]
  },
  {
   "cell_type": "code",
   "execution_count": 97,
   "metadata": {},
   "outputs": [],
   "source": [
    "#soma de todos os tempos que estão no banco de dados\n",
    "sum_temp = sum(tempo)\n",
    "\n",
    "#soma de todas as distancias que estão no banco de dados\n",
    "sum_dist = sum(dist)\n",
    "\n",
    "#média de todos os tempos\n",
    "med_tempo = sum_temp/len(tempo)\n",
    "\n",
    "#média de todas as distâncias\n",
    "med_dist = sum_dist/len(dist)\n",
    "\n",
    "#Y - média de Y\n",
    "for i in tempo:\n",
    "    YY.insert(i, i - med_tempo)\n",
    "\n",
    "#X - média de X\n",
    "for i in dist:\n",
    "    XX.insert(i, i - med_dist)\n",
    "\n",
    "#(X - média de X)*(Y - média de Y)\n",
    "XXYY = [x*y for x, y in zip(XX, YY)]\n",
    "\n",
    "#soma de todos os (X-X)*(Y-Y)\n",
    "sum_XXYY = sum(XXYY)\n",
    "\n",
    "#(X - média de X) ao quadrado\n",
    "XX2 = [x**2 for x in XX]\n",
    "\n",
    "#soma de todos os (X-X) ao quadrado\n",
    "sum_XX2 = sum(XX2)\n",
    "\n",
    "b = sum_XXYY/sum_XX2\n",
    "\n",
    "a = med_tempo-(b*med_dist)\n",
    "\n",
    "for x in dist:\n",
    "    Y.insert(x, a+b*x)"
   ]
  },
  {
   "cell_type": "markdown",
   "metadata": {},
   "source": [
    "## modelo de regressão: R2"
   ]
  },
  {
   "cell_type": "code",
   "execution_count": 106,
   "metadata": {},
   "outputs": [
    {
     "name": "stdout",
     "output_type": "stream",
     "text": [
      "69.66984029484031 %\n"
     ]
    }
   ],
   "source": [
    "# soma dos quadrados\n",
    "u = [y-i for y, i in zip(tempo, Y)]\n",
    "\n",
    "# soma dos quadrados da regressão \n",
    "YY2 = [(y-med_tempo)**2 for y in Y]\n",
    "\n",
    "# soma dos quadrados dos resíduos \n",
    "u2 = [y**2 for y in u]\n",
    "\n",
    "R2 = sum(YY2)/(sum(YY2)+sum(u2))\n",
    "print(R2*100,\"%\")"
   ]
  }
 ],
 "metadata": {
  "kernelspec": {
   "display_name": "Python 3.11.5 64-bit",
   "language": "python",
   "name": "python3"
  },
  "language_info": {
   "codemirror_mode": {
    "name": "ipython",
    "version": 3
   },
   "file_extension": ".py",
   "mimetype": "text/x-python",
   "name": "python",
   "nbconvert_exporter": "python",
   "pygments_lexer": "ipython3",
   "version": "3.11.5"
  },
  "orig_nbformat": 4,
  "vscode": {
   "interpreter": {
    "hash": "9b219aa6247b948b7c92562e33b987abfe83efae6a5fdafc291449c3a0d517aa"
   }
  }
 },
 "nbformat": 4,
 "nbformat_minor": 2
}
